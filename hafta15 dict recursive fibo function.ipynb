{
  "nbformat": 4,
  "nbformat_minor": 0,
  "metadata": {
    "colab": {
      "provenance": [],
      "authorship_tag": "ABX9TyNYJKtTuJDrv8GEN86wMTch",
      "include_colab_link": true
    },
    "kernelspec": {
      "name": "python3",
      "display_name": "Python 3"
    },
    "language_info": {
      "name": "python"
    }
  },
  "cells": [
    {
      "cell_type": "markdown",
      "metadata": {
        "id": "view-in-github",
        "colab_type": "text"
      },
      "source": [
        "<a href=\"https://colab.research.google.com/github/AlpKaanGuven/hafta15/blob/main/hafta15%20dict%20recursive%20fibo%20function.ipynb\" target=\"_parent\"><img src=\"https://colab.research.google.com/assets/colab-badge.svg\" alt=\"Open In Colab\"/></a>"
      ]
    },
    {
      "source": [
        "from IPython import get_ipython\n",
        "from IPython.display import display\n",
        "\n",
        "def fibo(n):\n",
        "  if n <= 1:\n",
        "    return n\n",
        "  else:\n",
        "    return(fibo(n-1) + fibo(n-2))\n",
        "\n",
        "def anafonksiyon():\n",
        "  try:\n",
        "    n = int(input('Lütfen bir sayı girin: '))\n",
        "    if n < 0:\n",
        "        print(\"Negatif sayı giremezsiniz.\")\n",
        "        return\n",
        "    d = dict()\n",
        "    toplam = 0\n",
        "    for x in range(1, n + 1):\n",
        "      d[x] = fibo(x)\n",
        "      toplam += (x * x)\n",
        "    print(\"Fibonacci değerleri ve karelerinin toplamı:\")\n",
        "    print(d)\n",
        "    print(\"Karelerin toplamı:\", toplam)\n",
        "  except ValueError:\n",
        "    print(\"Geçerli bir tam sayı girin.\")\n",
        "\n",
        "anafonksiyon()"
      ],
      "cell_type": "code",
      "metadata": {
        "colab": {
          "base_uri": "https://localhost:8080/"
        },
        "id": "xLvRklss5Ytv",
        "outputId": "3c6279a6-374d-41b8-df42-02366c3872f9"
      },
      "execution_count": 111,
      "outputs": [
        {
          "output_type": "stream",
          "name": "stdout",
          "text": [
            "Lütfen bir sayı girin: 10\n",
            "Fibonacci değerleri ve karelerinin toplamı:\n",
            "{1: 1, 2: 1, 3: 2, 4: 3, 5: 5, 6: 8, 7: 13, 8: 21, 9: 34, 10: 55}\n",
            "Karelerin toplamı: 385\n"
          ]
        }
      ]
    }
  ]
}